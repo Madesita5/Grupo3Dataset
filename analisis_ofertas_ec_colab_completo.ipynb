{
 "cells": [
  {
   "cell_type": "markdown",
   "id": "d44c9288",
   "metadata": {},
   "source": [
    "# 📊 Análisis de Ofertas Laborales en Ecuador (Completo)\n",
    "Este notebook carga, limpia y analiza un dataset de ofertas de trabajo en Ecuador.\n",
    "Incluye tablas, gráficos (Seaborn/Matplotlib) y un mini dashboard con Plotly."
   ]
  },
  {
   "cell_type": "code",
   "execution_count": null,
   "id": "fc89c676",
   "metadata": {},
   "outputs": [],
   "source": [
    "\n",
    "import pandas as pd\n",
    "import numpy as np\n",
    "import seaborn as sns\n",
    "import matplotlib.pyplot as plt\n",
    "import plotly.express as px\n",
    "import plotly.graph_objects as go\n",
    "import unicodedata\n",
    "\n",
    "sns.set(style=\"whitegrid\")\n"
   ]
  },
  {
   "cell_type": "markdown",
   "id": "278827f2",
   "metadata": {},
   "source": [
    "## 1. Cargar datos"
   ]
  },
  {
   "cell_type": "code",
   "execution_count": null,
   "id": "a45f19d6",
   "metadata": {},
   "outputs": [],
   "source": [
    "\n",
    "from google.colab import files\n",
    "\n",
    "# Subir archivo limpio exportado previamente\n",
    "uploaded = files.upload()\n",
    "\n",
    "df = pd.read_csv(\"ofertas_ec_limpio.csv\")\n",
    "df.head()\n"
   ]
  },
  {
   "cell_type": "markdown",
   "id": "c749e337",
   "metadata": {},
   "source": [
    "## 2. Filtros simples"
   ]
  },
  {
   "cell_type": "code",
   "execution_count": null,
   "id": "719b4a82",
   "metadata": {},
   "outputs": [],
   "source": [
    "\n",
    "# Puedes cambiar estos valores para filtrar la información\n",
    "ciudad_filtro = \"quito\"\n",
    "area_filtro = None\n",
    "nivel_filtro = None\n",
    "\n",
    "df_filtrado = df.copy()\n",
    "if ciudad_filtro:\n",
    "    df_filtrado = df_filtrado[df_filtrado['ciudad_norm'] == ciudad_filtro]\n",
    "if area_filtro:\n",
    "    df_filtrado = df_filtrado[df_filtrado['areaEstudios'] == area_filtro]\n",
    "if nivel_filtro:\n",
    "    df_filtrado = df_filtrado[df_filtrado['nivelInstruccion'] == nivel_filtro]\n",
    "\n",
    "df_filtrado.head()\n"
   ]
  },
  {
   "cell_type": "markdown",
   "id": "5aab4ea4",
   "metadata": {},
   "source": [
    "## 3. Ranking de cargos más frecuentes"
   ]
  },
  {
   "cell_type": "code",
   "execution_count": null,
   "id": "d42232d0",
   "metadata": {},
   "outputs": [],
   "source": [
    "\n",
    "top_cargos = df['cargo'].value_counts().head(20)\n",
    "plt.figure(figsize=(8,6))\n",
    "sns.barplot(y=top_cargos.index, x=top_cargos.values, palette=\"viridis\")\n",
    "plt.title(\"Top 20 Cargos más frecuentes\")\n",
    "plt.xlabel(\"Número de Ofertas\")\n",
    "plt.ylabel(\"Cargo\")\n",
    "plt.show()\n"
   ]
  },
  {
   "cell_type": "markdown",
   "id": "88b58481",
   "metadata": {},
   "source": [
    "## 4. Heatmap Ciudad × Área de Estudio"
   ]
  },
  {
   "cell_type": "code",
   "execution_count": null,
   "id": "3e849a55",
   "metadata": {},
   "outputs": [],
   "source": [
    "\n",
    "tabla_heatmap = pd.crosstab(df['ciudad_norm'], df['areaEstudios'])\n",
    "plt.figure(figsize=(12,8))\n",
    "sns.heatmap(tabla_heatmap, cmap=\"YlGnBu\", cbar_kws={'label': 'Número de ofertas'})\n",
    "plt.title(\"Heatmap Ciudad × Área de Estudio\")\n",
    "plt.show()\n"
   ]
  },
  {
   "cell_type": "markdown",
   "id": "bfdcfed3",
   "metadata": {},
   "source": [
    "## 5. Estacionalidad: Ofertas por mes"
   ]
  },
  {
   "cell_type": "code",
   "execution_count": null,
   "id": "b85dfa31",
   "metadata": {},
   "outputs": [],
   "source": [
    "\n",
    "ofertas_mes = df.groupby('ym_publicacion').size().reset_index(name=\"num_ofertas\")\n",
    "plt.figure(figsize=(12,5))\n",
    "sns.lineplot(x=\"ym_publicacion\", y=\"num_ofertas\", data=ofertas_mes, marker=\"o\")\n",
    "plt.xticks(rotation=45)\n",
    "plt.title(\"Evolución mensual de ofertas\")\n",
    "plt.show()\n"
   ]
  },
  {
   "cell_type": "markdown",
   "id": "1183cab9",
   "metadata": {},
   "source": [
    "## 6. Detección de outliers en remuneración"
   ]
  },
  {
   "cell_type": "code",
   "execution_count": null,
   "id": "7d6d005d",
   "metadata": {},
   "outputs": [],
   "source": [
    "\n",
    "plt.figure(figsize=(10,5))\n",
    "sns.boxplot(x=df['remuneracion_mid'])\n",
    "plt.title(\"Boxplot de remuneración media (USD/mes)\")\n",
    "plt.show()\n",
    "\n",
    "# Calcular outliers usando regla de IQR\n",
    "Q1 = df['remuneracion_mid'].quantile(0.25)\n",
    "Q3 = df['remuneracion_mid'].quantile(0.75)\n",
    "IQR = Q3 - Q1\n",
    "outliers = df[(df['remuneracion_mid'] < Q1 - 1.5*IQR) | (df['remuneracion_mid'] > Q3 + 1.5*IQR)]\n",
    "print(\"Número de outliers:\", len(outliers))\n",
    "outliers[['cargo','ciudad_titulo','remuneracion_mid']].head()\n"
   ]
  },
  {
   "cell_type": "markdown",
   "id": "d2d2f14e",
   "metadata": {},
   "source": [
    "## 7. Dashboard simple con Plotly"
   ]
  },
  {
   "cell_type": "code",
   "execution_count": null,
   "id": "190e3783",
   "metadata": {},
   "outputs": [],
   "source": [
    "\n",
    "fig1 = px.bar(top_cargos.reset_index().rename(columns={'index':'cargo', 'cargo':'num_ofertas'}),\n",
    "              x=\"num_ofertas\", y=\"cargo\", orientation=\"h\", title=\"Top 20 Cargos\")\n",
    "\n",
    "fig2 = px.histogram(df, x=\"remuneracion_mid\", nbins=30, title=\"Distribución de remuneración\")\n",
    "\n",
    "fig3 = px.line(ofertas_mes, x=\"ym_publicacion\", y=\"num_ofertas\", title=\"Ofertas por mes\")\n",
    "\n",
    "fig1.show()\n",
    "fig2.show()\n",
    "fig3.show()\n"
   ]
  }
 ],
 "metadata": {},
 "nbformat": 4,
 "nbformat_minor": 5
}
