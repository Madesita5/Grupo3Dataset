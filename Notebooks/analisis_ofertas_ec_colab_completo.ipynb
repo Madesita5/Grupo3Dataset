{
 "cells": [
  {
   "cell_type": "markdown",
   "id": "d44c9288",
   "metadata": {},
   "source": [
    "# 📊 Análisis de Ofertas Laborales en Ecuador\n",
    "Este notebook carga, limpia y analiza un dataset de ofertas de trabajo en Ecuador.\n",
    "Incluye tablas, gráficos."
   ]
  },
  {
   "cell_type": "markdown",
   "id": "ea5fe832",
   "metadata": {},
   "source": [
    "## 1. Cargar librerías y leer el dataset"
   ]
  },
  {
   "cell_type": "code",
   "execution_count": 90,
   "id": "eb659aa1",
   "metadata": {},
   "outputs": [
    {
     "data": {
      "text/html": [
       "<div>\n",
       "<style scoped>\n",
       "    .dataframe tbody tr th:only-of-type {\n",
       "        vertical-align: middle;\n",
       "    }\n",
       "\n",
       "    .dataframe tbody tr th {\n",
       "        vertical-align: top;\n",
       "    }\n",
       "\n",
       "    .dataframe thead th {\n",
       "        text-align: right;\n",
       "    }\n",
       "</style>\n",
       "<table border=\"1\" class=\"dataframe\">\n",
       "  <thead>\n",
       "    <tr style=\"text-align: right;\">\n",
       "      <th></th>\n",
       "      <th>cargo</th>\n",
       "      <th>modo</th>\n",
       "      <th>fechaPublicado</th>\n",
       "      <th>fechaFin</th>\n",
       "      <th>plazas</th>\n",
       "      <th>experiencia</th>\n",
       "      <th>capacitacion</th>\n",
       "      <th>jornadas</th>\n",
       "      <th>remuneracion</th>\n",
       "      <th>nivelInstruccion</th>\n",
       "      <th>areaEstudios</th>\n",
       "      <th>ciudad</th>\n",
       "      <th>parroquia</th>\n",
       "      <th>sector</th>\n",
       "    </tr>\n",
       "  </thead>\n",
       "  <tbody>\n",
       "    <tr>\n",
       "      <th>0</th>\n",
       "      <td>desarrollador java jee</td>\n",
       "      <td>tiempo completo</td>\n",
       "      <td>2013-02-22</td>\n",
       "      <td>2013-03-24</td>\n",
       "      <td>1</td>\n",
       "      <td>sin experiencia</td>\n",
       "      <td>0-50 horas</td>\n",
       "      <td>jornada ordinaria (8 horas)</td>\n",
       "      <td>$501-$750</td>\n",
       "      <td>tercer nivel</td>\n",
       "      <td>informática software</td>\n",
       "      <td>quito</td>\n",
       "      <td>indistinto</td>\n",
       "      <td>norte</td>\n",
       "    </tr>\n",
       "    <tr>\n",
       "      <th>1</th>\n",
       "      <td>guardias de seguridad con experiencia 1 año</td>\n",
       "      <td>tiempo completo</td>\n",
       "      <td>2013-02-23</td>\n",
       "      <td>2013-02-28</td>\n",
       "      <td>20</td>\n",
       "      <td>7-12 meses</td>\n",
       "      <td>0-50 horas</td>\n",
       "      <td>jornada ordinaria (8 horas)</td>\n",
       "      <td>$400-$500</td>\n",
       "      <td>bachiller</td>\n",
       "      <td>recursos humanos/personal</td>\n",
       "      <td>ibarra</td>\n",
       "      <td>indistinto</td>\n",
       "      <td>centro</td>\n",
       "    </tr>\n",
       "    <tr>\n",
       "      <th>2</th>\n",
       "      <td>vendedor</td>\n",
       "      <td>tiempo completo</td>\n",
       "      <td>2013-02-23</td>\n",
       "      <td>2013-02-26</td>\n",
       "      <td>2</td>\n",
       "      <td>1-3 años</td>\n",
       "      <td>0-50 horas</td>\n",
       "      <td>jornada ordinaria (8 horas)</td>\n",
       "      <td>$400-$500</td>\n",
       "      <td>bachiller</td>\n",
       "      <td>ventas al consumidor</td>\n",
       "      <td>guayaquil</td>\n",
       "      <td>indistinto</td>\n",
       "      <td>centro</td>\n",
       "    </tr>\n",
       "    <tr>\n",
       "      <th>3</th>\n",
       "      <td>topografo</td>\n",
       "      <td>por obra</td>\n",
       "      <td>2013-02-23</td>\n",
       "      <td>2013-02-28</td>\n",
       "      <td>1</td>\n",
       "      <td>1-3 años</td>\n",
       "      <td>0-50 horas</td>\n",
       "      <td>jornada ordinaria (8 horas)</td>\n",
       "      <td>$501-$750</td>\n",
       "      <td>tecnológico superior</td>\n",
       "      <td>ingeniería/técnico</td>\n",
       "      <td>pedro vicente maldonado</td>\n",
       "      <td>indistinto</td>\n",
       "      <td>suroeste</td>\n",
       "    </tr>\n",
       "    <tr>\n",
       "      <th>4</th>\n",
       "      <td>asistente contable</td>\n",
       "      <td>tiempo completo</td>\n",
       "      <td>2013-02-25</td>\n",
       "      <td>2013-03-27</td>\n",
       "      <td>1</td>\n",
       "      <td>1-3 años</td>\n",
       "      <td>0-50 horas</td>\n",
       "      <td>jornada ordinaria (8 horas)</td>\n",
       "      <td>$400-$500</td>\n",
       "      <td>tercer nivel</td>\n",
       "      <td>economía/contabilidad</td>\n",
       "      <td>guayaquil</td>\n",
       "      <td>indistinto</td>\n",
       "      <td>sur</td>\n",
       "    </tr>\n",
       "  </tbody>\n",
       "</table>\n",
       "</div>"
      ],
      "text/plain": [
       "                                         cargo             modo  \\\n",
       "0                       desarrollador java jee  tiempo completo   \n",
       "1  guardias de seguridad con experiencia 1 año  tiempo completo   \n",
       "2                                     vendedor  tiempo completo   \n",
       "3                                    topografo         por obra   \n",
       "4                           asistente contable  tiempo completo   \n",
       "\n",
       "  fechaPublicado    fechaFin  plazas      experiencia capacitacion  \\\n",
       "0     2013-02-22  2013-03-24       1  sin experiencia   0-50 horas   \n",
       "1     2013-02-23  2013-02-28      20       7-12 meses   0-50 horas   \n",
       "2     2013-02-23  2013-02-26       2         1-3 años   0-50 horas   \n",
       "3     2013-02-23  2013-02-28       1         1-3 años   0-50 horas   \n",
       "4     2013-02-25  2013-03-27       1         1-3 años   0-50 horas   \n",
       "\n",
       "                      jornadas remuneracion      nivelInstruccion  \\\n",
       "0  jornada ordinaria (8 horas)    $501-$750          tercer nivel   \n",
       "1  jornada ordinaria (8 horas)    $400-$500             bachiller   \n",
       "2  jornada ordinaria (8 horas)    $400-$500             bachiller   \n",
       "3  jornada ordinaria (8 horas)    $501-$750  tecnológico superior   \n",
       "4  jornada ordinaria (8 horas)    $400-$500          tercer nivel   \n",
       "\n",
       "                areaEstudios                   ciudad   parroquia    sector  \n",
       "0       informática software                    quito  indistinto     norte  \n",
       "1  recursos humanos/personal                   ibarra  indistinto    centro  \n",
       "2       ventas al consumidor                guayaquil  indistinto    centro  \n",
       "3         ingeniería/técnico  pedro vicente maldonado  indistinto  suroeste  \n",
       "4      economía/contabilidad                guayaquil  indistinto       sur  "
      ]
     },
     "execution_count": 90,
     "metadata": {},
     "output_type": "execute_result"
    }
   ],
   "source": [
    "#Importar librerías necesarias\n",
    "import pandas as pd\n",
    "import numpy as np\n",
    "import matplotlib.pyplot as plt\n",
    "import seaborn as sns\n",
    "\n",
    "# Configurar visualización\n",
    "pd.set_option('display.max_columns', None)\n",
    "sns.set(style=\"whitegrid\")\n",
    "\n",
    "# Cargar el dataset\n",
    "ruta = \"../Datos/oferta_laboral_ecuador.csv\"  # Ajustado a tu estructura\n",
    "df = pd.read_csv(ruta)\n",
    "\n",
    "# Vista previa de los datos\n",
    "df.head()\n"
   ]
  },
  {
   "cell_type": "code",
   "execution_count": 91,
   "id": "66ae4aec",
   "metadata": {},
   "outputs": [
    {
     "name": "stdout",
     "output_type": "stream",
     "text": [
      "Requirement already satisfied: ipython in c:\\users\\patri\\onedrive\\escritorio\\maestria\\materias\\tratamiento de datos\\semana 3\\tarea 3\\tarea3env\\lib\\site-packages (9.5.0)\n",
      "Requirement already satisfied: nbformat in c:\\users\\patri\\onedrive\\escritorio\\maestria\\materias\\tratamiento de datos\\semana 3\\tarea 3\\tarea3env\\lib\\site-packages (5.10.4)\n",
      "Requirement already satisfied: colorama in c:\\users\\patri\\onedrive\\escritorio\\maestria\\materias\\tratamiento de datos\\semana 3\\tarea 3\\tarea3env\\lib\\site-packages (from ipython) (0.4.6)\n",
      "Requirement already satisfied: decorator in c:\\users\\patri\\onedrive\\escritorio\\maestria\\materias\\tratamiento de datos\\semana 3\\tarea 3\\tarea3env\\lib\\site-packages (from ipython) (5.2.1)\n",
      "Requirement already satisfied: ipython-pygments-lexers in c:\\users\\patri\\onedrive\\escritorio\\maestria\\materias\\tratamiento de datos\\semana 3\\tarea 3\\tarea3env\\lib\\site-packages (from ipython) (1.1.1)\n",
      "Requirement already satisfied: jedi>=0.16 in c:\\users\\patri\\onedrive\\escritorio\\maestria\\materias\\tratamiento de datos\\semana 3\\tarea 3\\tarea3env\\lib\\site-packages (from ipython) (0.19.2)\n",
      "Requirement already satisfied: matplotlib-inline in c:\\users\\patri\\onedrive\\escritorio\\maestria\\materias\\tratamiento de datos\\semana 3\\tarea 3\\tarea3env\\lib\\site-packages (from ipython) (0.1.7)\n",
      "Requirement already satisfied: prompt_toolkit<3.1.0,>=3.0.41 in c:\\users\\patri\\onedrive\\escritorio\\maestria\\materias\\tratamiento de datos\\semana 3\\tarea 3\\tarea3env\\lib\\site-packages (from ipython) (3.0.52)\n",
      "Requirement already satisfied: pygments>=2.4.0 in c:\\users\\patri\\onedrive\\escritorio\\maestria\\materias\\tratamiento de datos\\semana 3\\tarea 3\\tarea3env\\lib\\site-packages (from ipython) (2.19.2)\n",
      "Requirement already satisfied: stack_data in c:\\users\\patri\\onedrive\\escritorio\\maestria\\materias\\tratamiento de datos\\semana 3\\tarea 3\\tarea3env\\lib\\site-packages (from ipython) (0.6.3)\n",
      "Requirement already satisfied: traitlets>=5.13.0 in c:\\users\\patri\\onedrive\\escritorio\\maestria\\materias\\tratamiento de datos\\semana 3\\tarea 3\\tarea3env\\lib\\site-packages (from ipython) (5.14.3)\n",
      "Requirement already satisfied: fastjsonschema>=2.15 in c:\\users\\patri\\onedrive\\escritorio\\maestria\\materias\\tratamiento de datos\\semana 3\\tarea 3\\tarea3env\\lib\\site-packages (from nbformat) (2.21.2)\n",
      "Requirement already satisfied: jsonschema>=2.6 in c:\\users\\patri\\onedrive\\escritorio\\maestria\\materias\\tratamiento de datos\\semana 3\\tarea 3\\tarea3env\\lib\\site-packages (from nbformat) (4.25.1)\n",
      "Requirement already satisfied: jupyter-core!=5.0.*,>=4.12 in c:\\users\\patri\\onedrive\\escritorio\\maestria\\materias\\tratamiento de datos\\semana 3\\tarea 3\\tarea3env\\lib\\site-packages (from nbformat) (5.8.1)\n",
      "Requirement already satisfied: parso<0.9.0,>=0.8.4 in c:\\users\\patri\\onedrive\\escritorio\\maestria\\materias\\tratamiento de datos\\semana 3\\tarea 3\\tarea3env\\lib\\site-packages (from jedi>=0.16->ipython) (0.8.5)\n",
      "Requirement already satisfied: attrs>=22.2.0 in c:\\users\\patri\\onedrive\\escritorio\\maestria\\materias\\tratamiento de datos\\semana 3\\tarea 3\\tarea3env\\lib\\site-packages (from jsonschema>=2.6->nbformat) (25.3.0)\n",
      "Requirement already satisfied: jsonschema-specifications>=2023.03.6 in c:\\users\\patri\\onedrive\\escritorio\\maestria\\materias\\tratamiento de datos\\semana 3\\tarea 3\\tarea3env\\lib\\site-packages (from jsonschema>=2.6->nbformat) (2025.4.1)\n",
      "Requirement already satisfied: referencing>=0.28.4 in c:\\users\\patri\\onedrive\\escritorio\\maestria\\materias\\tratamiento de datos\\semana 3\\tarea 3\\tarea3env\\lib\\site-packages (from jsonschema>=2.6->nbformat) (0.36.2)\n",
      "Requirement already satisfied: rpds-py>=0.7.1 in c:\\users\\patri\\onedrive\\escritorio\\maestria\\materias\\tratamiento de datos\\semana 3\\tarea 3\\tarea3env\\lib\\site-packages (from jsonschema>=2.6->nbformat) (0.27.1)\n",
      "Requirement already satisfied: platformdirs>=2.5 in c:\\users\\patri\\onedrive\\escritorio\\maestria\\materias\\tratamiento de datos\\semana 3\\tarea 3\\tarea3env\\lib\\site-packages (from jupyter-core!=5.0.*,>=4.12->nbformat) (4.4.0)\n",
      "Requirement already satisfied: pywin32>=300 in c:\\users\\patri\\onedrive\\escritorio\\maestria\\materias\\tratamiento de datos\\semana 3\\tarea 3\\tarea3env\\lib\\site-packages (from jupyter-core!=5.0.*,>=4.12->nbformat) (311)\n",
      "Requirement already satisfied: wcwidth in c:\\users\\patri\\onedrive\\escritorio\\maestria\\materias\\tratamiento de datos\\semana 3\\tarea 3\\tarea3env\\lib\\site-packages (from prompt_toolkit<3.1.0,>=3.0.41->ipython) (0.2.13)\n",
      "Requirement already satisfied: executing>=1.2.0 in c:\\users\\patri\\onedrive\\escritorio\\maestria\\materias\\tratamiento de datos\\semana 3\\tarea 3\\tarea3env\\lib\\site-packages (from stack_data->ipython) (2.2.0)\n",
      "Requirement already satisfied: asttokens>=2.1.0 in c:\\users\\patri\\onedrive\\escritorio\\maestria\\materias\\tratamiento de datos\\semana 3\\tarea 3\\tarea3env\\lib\\site-packages (from stack_data->ipython) (3.0.0)\n",
      "Requirement already satisfied: pure-eval in c:\\users\\patri\\onedrive\\escritorio\\maestria\\materias\\tratamiento de datos\\semana 3\\tarea 3\\tarea3env\\lib\\site-packages (from stack_data->ipython) (0.2.3)\n"
     ]
    },
    {
     "name": "stderr",
     "output_type": "stream",
     "text": [
      "\n",
      "[notice] A new release of pip is available: 25.0.1 -> 25.2\n",
      "[notice] To update, run: python.exe -m pip install --upgrade pip\n"
     ]
    }
   ],
   "source": [
    "!pip install ipython nbformat"
   ]
  },
  {
   "cell_type": "code",
   "execution_count": 92,
   "id": "2ed7bce0",
   "metadata": {},
   "outputs": [
    {
     "name": "stdout",
     "output_type": "stream",
     "text": [
      "Collecting jupyter\n",
      "  Using cached jupyter-1.1.1-py2.py3-none-any.whl.metadata (2.0 kB)\n",
      "Collecting notebook (from jupyter)\n",
      "  Using cached notebook-7.4.5-py3-none-any.whl.metadata (10 kB)\n",
      "Collecting jupyter-console (from jupyter)\n",
      "  Using cached jupyter_console-6.6.3-py3-none-any.whl.metadata (5.8 kB)\n",
      "Collecting nbconvert (from jupyter)\n",
      "  Using cached nbconvert-7.16.6-py3-none-any.whl.metadata (8.5 kB)\n",
      "Requirement already satisfied: ipykernel in c:\\users\\patri\\onedrive\\escritorio\\maestria\\materias\\tratamiento de datos\\semana 3\\tarea 3\\tarea3env\\lib\\site-packages (from jupyter) (6.30.1)\n",
      "Collecting ipywidgets (from jupyter)\n",
      "  Using cached ipywidgets-8.1.7-py3-none-any.whl.metadata (2.4 kB)\n",
      "Collecting jupyterlab (from jupyter)\n",
      "  Using cached jupyterlab-4.4.6-py3-none-any.whl.metadata (16 kB)\n",
      "Requirement already satisfied: comm>=0.1.1 in c:\\users\\patri\\onedrive\\escritorio\\maestria\\materias\\tratamiento de datos\\semana 3\\tarea 3\\tarea3env\\lib\\site-packages (from ipykernel->jupyter) (0.2.3)\n",
      "Requirement already satisfied: debugpy>=1.6.5 in c:\\users\\patri\\onedrive\\escritorio\\maestria\\materias\\tratamiento de datos\\semana 3\\tarea 3\\tarea3env\\lib\\site-packages (from ipykernel->jupyter) (1.8.16)\n",
      "Requirement already satisfied: ipython>=7.23.1 in c:\\users\\patri\\onedrive\\escritorio\\maestria\\materias\\tratamiento de datos\\semana 3\\tarea 3\\tarea3env\\lib\\site-packages (from ipykernel->jupyter) (9.5.0)\n",
      "Requirement already satisfied: jupyter-client>=8.0.0 in c:\\users\\patri\\onedrive\\escritorio\\maestria\\materias\\tratamiento de datos\\semana 3\\tarea 3\\tarea3env\\lib\\site-packages (from ipykernel->jupyter) (8.6.3)\n",
      "Requirement already satisfied: jupyter-core!=5.0.*,>=4.12 in c:\\users\\patri\\onedrive\\escritorio\\maestria\\materias\\tratamiento de datos\\semana 3\\tarea 3\\tarea3env\\lib\\site-packages (from ipykernel->jupyter) (5.8.1)\n",
      "Requirement already satisfied: matplotlib-inline>=0.1 in c:\\users\\patri\\onedrive\\escritorio\\maestria\\materias\\tratamiento de datos\\semana 3\\tarea 3\\tarea3env\\lib\\site-packages (from ipykernel->jupyter) (0.1.7)\n",
      "Requirement already satisfied: nest-asyncio>=1.4 in c:\\users\\patri\\onedrive\\escritorio\\maestria\\materias\\tratamiento de datos\\semana 3\\tarea 3\\tarea3env\\lib\\site-packages (from ipykernel->jupyter) (1.6.0)\n",
      "Requirement already satisfied: packaging>=22 in c:\\users\\patri\\onedrive\\escritorio\\maestria\\materias\\tratamiento de datos\\semana 3\\tarea 3\\tarea3env\\lib\\site-packages (from ipykernel->jupyter) (25.0)\n",
      "Requirement already satisfied: psutil>=5.7 in c:\\users\\patri\\onedrive\\escritorio\\maestria\\materias\\tratamiento de datos\\semana 3\\tarea 3\\tarea3env\\lib\\site-packages (from ipykernel->jupyter) (7.0.0)\n",
      "Requirement already satisfied: pyzmq>=25 in c:\\users\\patri\\onedrive\\escritorio\\maestria\\materias\\tratamiento de datos\\semana 3\\tarea 3\\tarea3env\\lib\\site-packages (from ipykernel->jupyter) (27.0.2)\n",
      "Requirement already satisfied: tornado>=6.2 in c:\\users\\patri\\onedrive\\escritorio\\maestria\\materias\\tratamiento de datos\\semana 3\\tarea 3\\tarea3env\\lib\\site-packages (from ipykernel->jupyter) (6.5.2)\n",
      "Requirement already satisfied: traitlets>=5.4.0 in c:\\users\\patri\\onedrive\\escritorio\\maestria\\materias\\tratamiento de datos\\semana 3\\tarea 3\\tarea3env\\lib\\site-packages (from ipykernel->jupyter) (5.14.3)\n",
      "Collecting widgetsnbextension~=4.0.14 (from ipywidgets->jupyter)\n",
      "  Using cached widgetsnbextension-4.0.14-py3-none-any.whl.metadata (1.6 kB)\n",
      "Collecting jupyterlab_widgets~=3.0.15 (from ipywidgets->jupyter)\n",
      "  Using cached jupyterlab_widgets-3.0.15-py3-none-any.whl.metadata (20 kB)\n",
      "Requirement already satisfied: prompt-toolkit>=3.0.30 in c:\\users\\patri\\onedrive\\escritorio\\maestria\\materias\\tratamiento de datos\\semana 3\\tarea 3\\tarea3env\\lib\\site-packages (from jupyter-console->jupyter) (3.0.52)\n",
      "Requirement already satisfied: pygments in c:\\users\\patri\\onedrive\\escritorio\\maestria\\materias\\tratamiento de datos\\semana 3\\tarea 3\\tarea3env\\lib\\site-packages (from jupyter-console->jupyter) (2.19.2)\n",
      "Collecting async-lru>=1.0.0 (from jupyterlab->jupyter)\n",
      "  Using cached async_lru-2.0.5-py3-none-any.whl.metadata (4.5 kB)\n",
      "Collecting httpx<1,>=0.25.0 (from jupyterlab->jupyter)\n",
      "  Using cached httpx-0.28.1-py3-none-any.whl.metadata (7.1 kB)\n",
      "Collecting jinja2>=3.0.3 (from jupyterlab->jupyter)\n",
      "  Using cached jinja2-3.1.6-py3-none-any.whl.metadata (2.9 kB)\n",
      "Collecting jupyter-lsp>=2.0.0 (from jupyterlab->jupyter)\n",
      "  Downloading jupyter_lsp-2.3.0-py3-none-any.whl.metadata (1.8 kB)\n",
      "Collecting jupyter-server<3,>=2.4.0 (from jupyterlab->jupyter)\n",
      "  Using cached jupyter_server-2.17.0-py3-none-any.whl.metadata (8.5 kB)\n",
      "Collecting jupyterlab-server<3,>=2.27.1 (from jupyterlab->jupyter)\n",
      "  Using cached jupyterlab_server-2.27.3-py3-none-any.whl.metadata (5.9 kB)\n",
      "Collecting notebook-shim>=0.2 (from jupyterlab->jupyter)\n",
      "  Using cached notebook_shim-0.2.4-py3-none-any.whl.metadata (4.0 kB)\n",
      "Collecting setuptools>=41.1.0 (from jupyterlab->jupyter)\n",
      "  Using cached setuptools-80.9.0-py3-none-any.whl.metadata (6.6 kB)\n",
      "Collecting beautifulsoup4 (from nbconvert->jupyter)\n",
      "  Using cached beautifulsoup4-4.13.5-py3-none-any.whl.metadata (3.8 kB)\n",
      "Collecting bleach!=5.0.0 (from bleach[css]!=5.0.0->nbconvert->jupyter)\n",
      "  Using cached bleach-6.2.0-py3-none-any.whl.metadata (30 kB)\n",
      "Collecting defusedxml (from nbconvert->jupyter)\n",
      "  Using cached defusedxml-0.7.1-py2.py3-none-any.whl.metadata (32 kB)\n",
      "Collecting jupyterlab-pygments (from nbconvert->jupyter)\n",
      "  Using cached jupyterlab_pygments-0.3.0-py3-none-any.whl.metadata (4.4 kB)\n",
      "Collecting markupsafe>=2.0 (from nbconvert->jupyter)\n",
      "  Using cached MarkupSafe-3.0.2-cp313-cp313-win_amd64.whl.metadata (4.1 kB)\n",
      "Collecting mistune<4,>=2.0.3 (from nbconvert->jupyter)\n",
      "  Downloading mistune-3.1.4-py3-none-any.whl.metadata (1.8 kB)\n",
      "Collecting nbclient>=0.5.0 (from nbconvert->jupyter)\n",
      "  Using cached nbclient-0.10.2-py3-none-any.whl.metadata (8.3 kB)\n",
      "Requirement already satisfied: nbformat>=5.7 in c:\\users\\patri\\onedrive\\escritorio\\maestria\\materias\\tratamiento de datos\\semana 3\\tarea 3\\tarea3env\\lib\\site-packages (from nbconvert->jupyter) (5.10.4)\n",
      "Collecting pandocfilters>=1.4.1 (from nbconvert->jupyter)\n",
      "  Using cached pandocfilters-1.5.1-py2.py3-none-any.whl.metadata (9.0 kB)\n",
      "Collecting webencodings (from bleach!=5.0.0->bleach[css]!=5.0.0->nbconvert->jupyter)\n",
      "  Using cached webencodings-0.5.1-py2.py3-none-any.whl.metadata (2.1 kB)\n",
      "Collecting tinycss2<1.5,>=1.1.0 (from bleach[css]!=5.0.0->nbconvert->jupyter)\n",
      "  Using cached tinycss2-1.4.0-py3-none-any.whl.metadata (3.0 kB)\n",
      "Collecting anyio (from httpx<1,>=0.25.0->jupyterlab->jupyter)\n",
      "  Using cached anyio-4.10.0-py3-none-any.whl.metadata (4.0 kB)\n",
      "Collecting certifi (from httpx<1,>=0.25.0->jupyterlab->jupyter)\n",
      "  Using cached certifi-2025.8.3-py3-none-any.whl.metadata (2.4 kB)\n",
      "Collecting httpcore==1.* (from httpx<1,>=0.25.0->jupyterlab->jupyter)\n",
      "  Using cached httpcore-1.0.9-py3-none-any.whl.metadata (21 kB)\n",
      "Collecting idna (from httpx<1,>=0.25.0->jupyterlab->jupyter)\n",
      "  Using cached idna-3.10-py3-none-any.whl.metadata (10 kB)\n",
      "Collecting h11>=0.16 (from httpcore==1.*->httpx<1,>=0.25.0->jupyterlab->jupyter)\n",
      "  Using cached h11-0.16.0-py3-none-any.whl.metadata (8.3 kB)\n",
      "Requirement already satisfied: colorama in c:\\users\\patri\\onedrive\\escritorio\\maestria\\materias\\tratamiento de datos\\semana 3\\tarea 3\\tarea3env\\lib\\site-packages (from ipython>=7.23.1->ipykernel->jupyter) (0.4.6)\n",
      "Requirement already satisfied: decorator in c:\\users\\patri\\onedrive\\escritorio\\maestria\\materias\\tratamiento de datos\\semana 3\\tarea 3\\tarea3env\\lib\\site-packages (from ipython>=7.23.1->ipykernel->jupyter) (5.2.1)\n",
      "Requirement already satisfied: ipython-pygments-lexers in c:\\users\\patri\\onedrive\\escritorio\\maestria\\materias\\tratamiento de datos\\semana 3\\tarea 3\\tarea3env\\lib\\site-packages (from ipython>=7.23.1->ipykernel->jupyter) (1.1.1)\n",
      "Requirement already satisfied: jedi>=0.16 in c:\\users\\patri\\onedrive\\escritorio\\maestria\\materias\\tratamiento de datos\\semana 3\\tarea 3\\tarea3env\\lib\\site-packages (from ipython>=7.23.1->ipykernel->jupyter) (0.19.2)\n",
      "Requirement already satisfied: stack_data in c:\\users\\patri\\onedrive\\escritorio\\maestria\\materias\\tratamiento de datos\\semana 3\\tarea 3\\tarea3env\\lib\\site-packages (from ipython>=7.23.1->ipykernel->jupyter) (0.6.3)\n",
      "Requirement already satisfied: python-dateutil>=2.8.2 in c:\\users\\patri\\onedrive\\escritorio\\maestria\\materias\\tratamiento de datos\\semana 3\\tarea 3\\tarea3env\\lib\\site-packages (from jupyter-client>=8.0.0->ipykernel->jupyter) (2.9.0.post0)\n",
      "Requirement already satisfied: platformdirs>=2.5 in c:\\users\\patri\\onedrive\\escritorio\\maestria\\materias\\tratamiento de datos\\semana 3\\tarea 3\\tarea3env\\lib\\site-packages (from jupyter-core!=5.0.*,>=4.12->ipykernel->jupyter) (4.4.0)\n",
      "Requirement already satisfied: pywin32>=300 in c:\\users\\patri\\onedrive\\escritorio\\maestria\\materias\\tratamiento de datos\\semana 3\\tarea 3\\tarea3env\\lib\\site-packages (from jupyter-core!=5.0.*,>=4.12->ipykernel->jupyter) (311)\n",
      "Collecting argon2-cffi>=21.1 (from jupyter-server<3,>=2.4.0->jupyterlab->jupyter)\n",
      "  Using cached argon2_cffi-25.1.0-py3-none-any.whl.metadata (4.1 kB)\n",
      "Collecting jupyter-events>=0.11.0 (from jupyter-server<3,>=2.4.0->jupyterlab->jupyter)\n",
      "  Using cached jupyter_events-0.12.0-py3-none-any.whl.metadata (5.8 kB)\n",
      "Collecting jupyter-server-terminals>=0.4.4 (from jupyter-server<3,>=2.4.0->jupyterlab->jupyter)\n",
      "  Using cached jupyter_server_terminals-0.5.3-py3-none-any.whl.metadata (5.6 kB)\n",
      "Collecting prometheus-client>=0.9 (from jupyter-server<3,>=2.4.0->jupyterlab->jupyter)\n",
      "  Using cached prometheus_client-0.22.1-py3-none-any.whl.metadata (1.9 kB)\n",
      "Collecting pywinpty>=2.0.1 (from jupyter-server<3,>=2.4.0->jupyterlab->jupyter)\n",
      "  Using cached pywinpty-3.0.0-cp313-cp313-win_amd64.whl.metadata (101 bytes)\n",
      "Collecting send2trash>=1.8.2 (from jupyter-server<3,>=2.4.0->jupyterlab->jupyter)\n",
      "  Using cached Send2Trash-1.8.3-py3-none-any.whl.metadata (4.0 kB)\n",
      "Collecting terminado>=0.8.3 (from jupyter-server<3,>=2.4.0->jupyterlab->jupyter)\n",
      "  Using cached terminado-0.18.1-py3-none-any.whl.metadata (5.8 kB)\n",
      "Collecting websocket-client>=1.7 (from jupyter-server<3,>=2.4.0->jupyterlab->jupyter)\n",
      "  Using cached websocket_client-1.8.0-py3-none-any.whl.metadata (8.0 kB)\n",
      "Collecting babel>=2.10 (from jupyterlab-server<3,>=2.27.1->jupyterlab->jupyter)\n",
      "  Using cached babel-2.17.0-py3-none-any.whl.metadata (2.0 kB)\n",
      "Collecting json5>=0.9.0 (from jupyterlab-server<3,>=2.27.1->jupyterlab->jupyter)\n",
      "  Using cached json5-0.12.1-py3-none-any.whl.metadata (36 kB)\n",
      "Requirement already satisfied: jsonschema>=4.18.0 in c:\\users\\patri\\onedrive\\escritorio\\maestria\\materias\\tratamiento de datos\\semana 3\\tarea 3\\tarea3env\\lib\\site-packages (from jupyterlab-server<3,>=2.27.1->jupyterlab->jupyter) (4.25.1)\n",
      "Collecting requests>=2.31 (from jupyterlab-server<3,>=2.27.1->jupyterlab->jupyter)\n",
      "  Using cached requests-2.32.5-py3-none-any.whl.metadata (4.9 kB)\n",
      "Requirement already satisfied: fastjsonschema>=2.15 in c:\\users\\patri\\onedrive\\escritorio\\maestria\\materias\\tratamiento de datos\\semana 3\\tarea 3\\tarea3env\\lib\\site-packages (from nbformat>=5.7->nbconvert->jupyter) (2.21.2)\n",
      "Requirement already satisfied: wcwidth in c:\\users\\patri\\onedrive\\escritorio\\maestria\\materias\\tratamiento de datos\\semana 3\\tarea 3\\tarea3env\\lib\\site-packages (from prompt-toolkit>=3.0.30->jupyter-console->jupyter) (0.2.13)\n",
      "Collecting soupsieve>1.2 (from beautifulsoup4->nbconvert->jupyter)\n",
      "  Downloading soupsieve-2.8-py3-none-any.whl.metadata (4.6 kB)\n",
      "Collecting typing-extensions>=4.0.0 (from beautifulsoup4->nbconvert->jupyter)\n",
      "  Downloading typing_extensions-4.15.0-py3-none-any.whl.metadata (3.3 kB)\n",
      "Collecting sniffio>=1.1 (from anyio->httpx<1,>=0.25.0->jupyterlab->jupyter)\n",
      "  Using cached sniffio-1.3.1-py3-none-any.whl.metadata (3.9 kB)\n",
      "Collecting argon2-cffi-bindings (from argon2-cffi>=21.1->jupyter-server<3,>=2.4.0->jupyterlab->jupyter)\n",
      "  Using cached argon2_cffi_bindings-25.1.0-cp39-abi3-win_amd64.whl.metadata (7.5 kB)\n",
      "Requirement already satisfied: parso<0.9.0,>=0.8.4 in c:\\users\\patri\\onedrive\\escritorio\\maestria\\materias\\tratamiento de datos\\semana 3\\tarea 3\\tarea3env\\lib\\site-packages (from jedi>=0.16->ipython>=7.23.1->ipykernel->jupyter) (0.8.5)\n",
      "Requirement already satisfied: attrs>=22.2.0 in c:\\users\\patri\\onedrive\\escritorio\\maestria\\materias\\tratamiento de datos\\semana 3\\tarea 3\\tarea3env\\lib\\site-packages (from jsonschema>=4.18.0->jupyterlab-server<3,>=2.27.1->jupyterlab->jupyter) (25.3.0)\n",
      "Requirement already satisfied: jsonschema-specifications>=2023.03.6 in c:\\users\\patri\\onedrive\\escritorio\\maestria\\materias\\tratamiento de datos\\semana 3\\tarea 3\\tarea3env\\lib\\site-packages (from jsonschema>=4.18.0->jupyterlab-server<3,>=2.27.1->jupyterlab->jupyter) (2025.4.1)\n",
      "Requirement already satisfied: referencing>=0.28.4 in c:\\users\\patri\\onedrive\\escritorio\\maestria\\materias\\tratamiento de datos\\semana 3\\tarea 3\\tarea3env\\lib\\site-packages (from jsonschema>=4.18.0->jupyterlab-server<3,>=2.27.1->jupyterlab->jupyter) (0.36.2)\n",
      "Requirement already satisfied: rpds-py>=0.7.1 in c:\\users\\patri\\onedrive\\escritorio\\maestria\\materias\\tratamiento de datos\\semana 3\\tarea 3\\tarea3env\\lib\\site-packages (from jsonschema>=4.18.0->jupyterlab-server<3,>=2.27.1->jupyterlab->jupyter) (0.27.1)\n",
      "Collecting python-json-logger>=2.0.4 (from jupyter-events>=0.11.0->jupyter-server<3,>=2.4.0->jupyterlab->jupyter)\n",
      "  Using cached python_json_logger-3.3.0-py3-none-any.whl.metadata (4.0 kB)\n",
      "Collecting pyyaml>=5.3 (from jupyter-events>=0.11.0->jupyter-server<3,>=2.4.0->jupyterlab->jupyter)\n",
      "  Using cached PyYAML-6.0.2-cp313-cp313-win_amd64.whl.metadata (2.1 kB)\n",
      "Collecting rfc3339-validator (from jupyter-events>=0.11.0->jupyter-server<3,>=2.4.0->jupyterlab->jupyter)\n",
      "  Using cached rfc3339_validator-0.1.4-py2.py3-none-any.whl.metadata (1.5 kB)\n",
      "Collecting rfc3986-validator>=0.1.1 (from jupyter-events>=0.11.0->jupyter-server<3,>=2.4.0->jupyterlab->jupyter)\n",
      "  Using cached rfc3986_validator-0.1.1-py2.py3-none-any.whl.metadata (1.7 kB)\n",
      "Requirement already satisfied: six>=1.5 in c:\\users\\patri\\onedrive\\escritorio\\maestria\\materias\\tratamiento de datos\\semana 3\\tarea 3\\tarea3env\\lib\\site-packages (from python-dateutil>=2.8.2->jupyter-client>=8.0.0->ipykernel->jupyter) (1.17.0)\n",
      "Collecting charset_normalizer<4,>=2 (from requests>=2.31->jupyterlab-server<3,>=2.27.1->jupyterlab->jupyter)\n",
      "  Using cached charset_normalizer-3.4.3-cp313-cp313-win_amd64.whl.metadata (37 kB)\n",
      "Collecting urllib3<3,>=1.21.1 (from requests>=2.31->jupyterlab-server<3,>=2.27.1->jupyterlab->jupyter)\n",
      "  Using cached urllib3-2.5.0-py3-none-any.whl.metadata (6.5 kB)\n",
      "Requirement already satisfied: executing>=1.2.0 in c:\\users\\patri\\onedrive\\escritorio\\maestria\\materias\\tratamiento de datos\\semana 3\\tarea 3\\tarea3env\\lib\\site-packages (from stack_data->ipython>=7.23.1->ipykernel->jupyter) (2.2.0)\n",
      "Requirement already satisfied: asttokens>=2.1.0 in c:\\users\\patri\\onedrive\\escritorio\\maestria\\materias\\tratamiento de datos\\semana 3\\tarea 3\\tarea3env\\lib\\site-packages (from stack_data->ipython>=7.23.1->ipykernel->jupyter) (3.0.0)\n",
      "Requirement already satisfied: pure-eval in c:\\users\\patri\\onedrive\\escritorio\\maestria\\materias\\tratamiento de datos\\semana 3\\tarea 3\\tarea3env\\lib\\site-packages (from stack_data->ipython>=7.23.1->ipykernel->jupyter) (0.2.3)\n",
      "Collecting fqdn (from jsonschema[format-nongpl]>=4.18.0->jupyter-events>=0.11.0->jupyter-server<3,>=2.4.0->jupyterlab->jupyter)\n",
      "  Using cached fqdn-1.5.1-py3-none-any.whl.metadata (1.4 kB)\n",
      "Collecting isoduration (from jsonschema[format-nongpl]>=4.18.0->jupyter-events>=0.11.0->jupyter-server<3,>=2.4.0->jupyterlab->jupyter)\n",
      "  Using cached isoduration-20.11.0-py3-none-any.whl.metadata (5.7 kB)\n",
      "Collecting jsonpointer>1.13 (from jsonschema[format-nongpl]>=4.18.0->jupyter-events>=0.11.0->jupyter-server<3,>=2.4.0->jupyterlab->jupyter)\n",
      "  Using cached jsonpointer-3.0.0-py2.py3-none-any.whl.metadata (2.3 kB)\n",
      "Collecting rfc3987-syntax>=1.1.0 (from jsonschema[format-nongpl]>=4.18.0->jupyter-events>=0.11.0->jupyter-server<3,>=2.4.0->jupyterlab->jupyter)\n",
      "  Using cached rfc3987_syntax-1.1.0-py3-none-any.whl.metadata (7.7 kB)\n",
      "Collecting uri-template (from jsonschema[format-nongpl]>=4.18.0->jupyter-events>=0.11.0->jupyter-server<3,>=2.4.0->jupyterlab->jupyter)\n",
      "  Using cached uri_template-1.3.0-py3-none-any.whl.metadata (8.8 kB)\n",
      "Collecting webcolors>=24.6.0 (from jsonschema[format-nongpl]>=4.18.0->jupyter-events>=0.11.0->jupyter-server<3,>=2.4.0->jupyterlab->jupyter)\n",
      "  Using cached webcolors-24.11.1-py3-none-any.whl.metadata (2.2 kB)\n",
      "Collecting cffi>=1.0.1 (from argon2-cffi-bindings->argon2-cffi>=21.1->jupyter-server<3,>=2.4.0->jupyterlab->jupyter)\n",
      "  Using cached cffi-1.17.1-cp313-cp313-win_amd64.whl.metadata (1.6 kB)\n",
      "Collecting pycparser (from cffi>=1.0.1->argon2-cffi-bindings->argon2-cffi>=21.1->jupyter-server<3,>=2.4.0->jupyterlab->jupyter)\n",
      "  Using cached pycparser-2.22-py3-none-any.whl.metadata (943 bytes)\n",
      "Collecting lark>=1.2.2 (from rfc3987-syntax>=1.1.0->jsonschema[format-nongpl]>=4.18.0->jupyter-events>=0.11.0->jupyter-server<3,>=2.4.0->jupyterlab->jupyter)\n",
      "  Using cached lark-1.2.2-py3-none-any.whl.metadata (1.8 kB)\n",
      "Collecting arrow>=0.15.0 (from isoduration->jsonschema[format-nongpl]>=4.18.0->jupyter-events>=0.11.0->jupyter-server<3,>=2.4.0->jupyterlab->jupyter)\n",
      "  Using cached arrow-1.3.0-py3-none-any.whl.metadata (7.5 kB)\n",
      "Collecting types-python-dateutil>=2.8.10 (from arrow>=0.15.0->isoduration->jsonschema[format-nongpl]>=4.18.0->jupyter-events>=0.11.0->jupyter-server<3,>=2.4.0->jupyterlab->jupyter)\n",
      "  Using cached types_python_dateutil-2.9.0.20250822-py3-none-any.whl.metadata (1.8 kB)\n",
      "Using cached jupyter-1.1.1-py2.py3-none-any.whl (2.7 kB)\n",
      "Using cached ipywidgets-8.1.7-py3-none-any.whl (139 kB)\n",
      "Using cached jupyter_console-6.6.3-py3-none-any.whl (24 kB)\n",
      "Using cached jupyterlab-4.4.6-py3-none-any.whl (12.3 MB)\n",
      "Using cached nbconvert-7.16.6-py3-none-any.whl (258 kB)\n",
      "Using cached notebook-7.4.5-py3-none-any.whl (14.3 MB)\n",
      "Using cached async_lru-2.0.5-py3-none-any.whl (6.1 kB)\n",
      "Using cached bleach-6.2.0-py3-none-any.whl (163 kB)\n",
      "Using cached httpx-0.28.1-py3-none-any.whl (73 kB)\n",
      "Using cached httpcore-1.0.9-py3-none-any.whl (78 kB)\n",
      "Using cached jinja2-3.1.6-py3-none-any.whl (134 kB)\n",
      "Downloading jupyter_lsp-2.3.0-py3-none-any.whl (76 kB)\n",
      "Using cached jupyter_server-2.17.0-py3-none-any.whl (388 kB)\n",
      "Using cached jupyterlab_server-2.27.3-py3-none-any.whl (59 kB)\n",
      "Using cached jupyterlab_widgets-3.0.15-py3-none-any.whl (216 kB)\n",
      "Using cached MarkupSafe-3.0.2-cp313-cp313-win_amd64.whl (15 kB)\n",
      "Downloading mistune-3.1.4-py3-none-any.whl (53 kB)\n",
      "Using cached nbclient-0.10.2-py3-none-any.whl (25 kB)\n",
      "Using cached notebook_shim-0.2.4-py3-none-any.whl (13 kB)\n",
      "Using cached pandocfilters-1.5.1-py2.py3-none-any.whl (8.7 kB)\n",
      "Using cached setuptools-80.9.0-py3-none-any.whl (1.2 MB)\n",
      "Using cached widgetsnbextension-4.0.14-py3-none-any.whl (2.2 MB)\n",
      "Using cached beautifulsoup4-4.13.5-py3-none-any.whl (105 kB)\n",
      "Using cached defusedxml-0.7.1-py2.py3-none-any.whl (25 kB)\n",
      "Using cached jupyterlab_pygments-0.3.0-py3-none-any.whl (15 kB)\n",
      "Using cached anyio-4.10.0-py3-none-any.whl (107 kB)\n",
      "Using cached argon2_cffi-25.1.0-py3-none-any.whl (14 kB)\n",
      "Using cached babel-2.17.0-py3-none-any.whl (10.2 MB)\n",
      "Using cached idna-3.10-py3-none-any.whl (70 kB)\n",
      "Using cached json5-0.12.1-py3-none-any.whl (36 kB)\n",
      "Using cached jupyter_events-0.12.0-py3-none-any.whl (19 kB)\n",
      "Using cached jupyter_server_terminals-0.5.3-py3-none-any.whl (13 kB)\n",
      "Using cached prometheus_client-0.22.1-py3-none-any.whl (58 kB)\n",
      "Using cached pywinpty-3.0.0-cp313-cp313-win_amd64.whl (2.1 MB)\n",
      "Using cached requests-2.32.5-py3-none-any.whl (64 kB)\n",
      "Using cached certifi-2025.8.3-py3-none-any.whl (161 kB)\n",
      "Using cached Send2Trash-1.8.3-py3-none-any.whl (18 kB)\n",
      "Downloading soupsieve-2.8-py3-none-any.whl (36 kB)\n",
      "Using cached terminado-0.18.1-py3-none-any.whl (14 kB)\n",
      "Using cached tinycss2-1.4.0-py3-none-any.whl (26 kB)\n",
      "Downloading typing_extensions-4.15.0-py3-none-any.whl (44 kB)\n",
      "Using cached webencodings-0.5.1-py2.py3-none-any.whl (11 kB)\n",
      "Using cached websocket_client-1.8.0-py3-none-any.whl (58 kB)\n",
      "Using cached charset_normalizer-3.4.3-cp313-cp313-win_amd64.whl (107 kB)\n",
      "Using cached h11-0.16.0-py3-none-any.whl (37 kB)\n",
      "Using cached python_json_logger-3.3.0-py3-none-any.whl (15 kB)\n",
      "Using cached PyYAML-6.0.2-cp313-cp313-win_amd64.whl (156 kB)\n",
      "Using cached rfc3986_validator-0.1.1-py2.py3-none-any.whl (4.2 kB)\n",
      "Using cached sniffio-1.3.1-py3-none-any.whl (10 kB)\n",
      "Using cached urllib3-2.5.0-py3-none-any.whl (129 kB)\n",
      "Using cached argon2_cffi_bindings-25.1.0-cp39-abi3-win_amd64.whl (31 kB)\n",
      "Using cached rfc3339_validator-0.1.4-py2.py3-none-any.whl (3.5 kB)\n",
      "Using cached cffi-1.17.1-cp313-cp313-win_amd64.whl (182 kB)\n",
      "Using cached jsonpointer-3.0.0-py2.py3-none-any.whl (7.6 kB)\n",
      "Using cached rfc3987_syntax-1.1.0-py3-none-any.whl (8.0 kB)\n",
      "Using cached webcolors-24.11.1-py3-none-any.whl (14 kB)\n",
      "Using cached fqdn-1.5.1-py3-none-any.whl (9.1 kB)\n",
      "Using cached isoduration-20.11.0-py3-none-any.whl (11 kB)\n",
      "Using cached uri_template-1.3.0-py3-none-any.whl (11 kB)\n",
      "Using cached arrow-1.3.0-py3-none-any.whl (66 kB)\n",
      "Using cached lark-1.2.2-py3-none-any.whl (111 kB)\n",
      "Using cached pycparser-2.22-py3-none-any.whl (117 kB)\n",
      "Using cached types_python_dateutil-2.9.0.20250822-py3-none-any.whl (17 kB)\n",
      "Installing collected packages: webencodings, widgetsnbextension, websocket-client, webcolors, urllib3, uri-template, typing-extensions, types-python-dateutil, tinycss2, soupsieve, sniffio, setuptools, send2trash, rfc3986-validator, rfc3339-validator, pyyaml, pywinpty, python-json-logger, pycparser, prometheus-client, pandocfilters, mistune, markupsafe, lark, jupyterlab_widgets, jupyterlab-pygments, jsonpointer, json5, idna, h11, fqdn, defusedxml, charset_normalizer, certifi, bleach, babel, async-lru, terminado, rfc3987-syntax, requests, jinja2, httpcore, cffi, beautifulsoup4, arrow, anyio, jupyter-server-terminals, isoduration, ipywidgets, httpx, argon2-cffi-bindings, jupyter-console, argon2-cffi, nbclient, jupyter-events, nbconvert, jupyter-server, notebook-shim, jupyterlab-server, jupyter-lsp, jupyterlab, notebook, jupyter\n",
      "Successfully installed anyio-4.10.0 argon2-cffi-25.1.0 argon2-cffi-bindings-25.1.0 arrow-1.3.0 async-lru-2.0.5 babel-2.17.0 beautifulsoup4-4.13.5 bleach-6.2.0 certifi-2025.8.3 cffi-1.17.1 charset_normalizer-3.4.3 defusedxml-0.7.1 fqdn-1.5.1 h11-0.16.0 httpcore-1.0.9 httpx-0.28.1 idna-3.10 ipywidgets-8.1.7 isoduration-20.11.0 jinja2-3.1.6 json5-0.12.1 jsonpointer-3.0.0 jupyter-1.1.1 jupyter-console-6.6.3 jupyter-events-0.12.0 jupyter-lsp-2.3.0 jupyter-server-2.17.0 jupyter-server-terminals-0.5.3 jupyterlab-4.4.6 jupyterlab-pygments-0.3.0 jupyterlab-server-2.27.3 jupyterlab_widgets-3.0.15 lark-1.2.2 markupsafe-3.0.2 mistune-3.1.4 nbclient-0.10.2 nbconvert-7.16.6 notebook-7.4.5 notebook-shim-0.2.4 pandocfilters-1.5.1 prometheus-client-0.22.1 pycparser-2.22 python-json-logger-3.3.0 pywinpty-3.0.0 pyyaml-6.0.2 requests-2.32.5 rfc3339-validator-0.1.4 rfc3986-validator-0.1.1 rfc3987-syntax-1.1.0 send2trash-1.8.3 setuptools-80.9.0 sniffio-1.3.1 soupsieve-2.8 terminado-0.18.1 tinycss2-1.4.0 types-python-dateutil-2.9.0.20250822 typing-extensions-4.15.0 uri-template-1.3.0 urllib3-2.5.0 webcolors-24.11.1 webencodings-0.5.1 websocket-client-1.8.0 widgetsnbextension-4.0.14\n"
     ]
    },
    {
     "name": "stderr",
     "output_type": "stream",
     "text": [
      "\n",
      "[notice] A new release of pip is available: 25.0.1 -> 25.2\n",
      "[notice] To update, run: python.exe -m pip install --upgrade pip\n"
     ]
    }
   ],
   "source": [
    "!pip install jupyter"
   ]
  },
  {
   "cell_type": "markdown",
   "id": "aa117521",
   "metadata": {},
   "source": [
    "## 2. Exploración inicial y limpieza básica"
   ]
  },
  {
   "cell_type": "code",
   "execution_count": 93,
   "id": "bb83965d",
   "metadata": {},
   "outputs": [
    {
     "name": "stdout",
     "output_type": "stream",
     "text": [
      "Filas: 210812, Columnas: 14\n",
      "<class 'pandas.core.frame.DataFrame'>\n",
      "RangeIndex: 210812 entries, 0 to 210811\n",
      "Data columns (total 14 columns):\n",
      " #   Column            Non-Null Count   Dtype \n",
      "---  ------            --------------   ----- \n",
      " 0   cargo             210812 non-null  object\n",
      " 1   modo              210812 non-null  object\n",
      " 2   fechaPublicado    210812 non-null  object\n",
      " 3   fechaFin          210812 non-null  object\n",
      " 4   plazas            210812 non-null  int64 \n",
      " 5   experiencia       210812 non-null  object\n",
      " 6   capacitacion      210812 non-null  object\n",
      " 7   jornadas          210812 non-null  object\n",
      " 8   remuneracion      210812 non-null  object\n",
      " 9   nivelInstruccion  210812 non-null  object\n",
      " 10  areaEstudios      210812 non-null  object\n",
      " 11  ciudad            210812 non-null  object\n",
      " 12  parroquia         210812 non-null  object\n",
      " 13  sector            210812 non-null  object\n",
      "dtypes: int64(1), object(13)\n",
      "memory usage: 22.5+ MB\n"
     ]
    }
   ],
   "source": [
    "df.shape\n",
    "# Dimensiones del DataFrame\n",
    "print(f\"Filas: {df.shape[0]}, Columnas: {df.shape[1]}\")\n",
    "\n",
    "# Información general\n",
    "df.info()"
   ]
  },
  {
   "cell_type": "markdown",
   "id": "d66927aa",
   "metadata": {},
   "source": [
    "Verificar valores nulos"
   ]
  },
  {
   "cell_type": "code",
   "execution_count": 94,
   "id": "3cb590c5",
   "metadata": {},
   "outputs": [
    {
     "data": {
      "text/plain": [
       "cargo               0\n",
       "modo                0\n",
       "fechaPublicado      0\n",
       "fechaFin            0\n",
       "plazas              0\n",
       "experiencia         0\n",
       "capacitacion        0\n",
       "jornadas            0\n",
       "remuneracion        0\n",
       "nivelInstruccion    0\n",
       "areaEstudios        0\n",
       "ciudad              0\n",
       "parroquia           0\n",
       "sector              0\n",
       "dtype: int64"
      ]
     },
     "execution_count": 94,
     "metadata": {},
     "output_type": "execute_result"
    }
   ],
   "source": [
    "# Conteo de valores nulos por columna\n",
    "df.isnull().sum()\n"
   ]
  },
  {
   "cell_type": "markdown",
   "id": "6dc52389",
   "metadata": {},
   "source": [
    "Eliminar columnas con más del 50% de valores nulos (si aplica)"
   ]
  },
  {
   "cell_type": "code",
   "execution_count": 95,
   "id": "132ff13a",
   "metadata": {},
   "outputs": [
    {
     "name": "stdout",
     "output_type": "stream",
     "text": [
      "DataFrame después de eliminar columnas con muchos nulos: (210812, 14)\n"
     ]
    }
   ],
   "source": [
    "# Umbral del 50%\n",
    "umbral = len(df) * 0.5\n",
    "df = df.dropna(axis=1, thresh=umbral)\n",
    "\n",
    "# Confirmamos nueva forma\n",
    "print(f\"DataFrame después de eliminar columnas con muchos nulos: {df.shape}\")\n"
   ]
  },
  {
   "cell_type": "markdown",
   "id": "02f93cd7",
   "metadata": {},
   "source": [
    "## 3. Limpieza de columnas clave\n",
    "Este paso se enfocará en dejar listas las columnas importantes para el análisis.\n",
    "Asumiremos que entre las columnas que más importan están las relacionadas con el cargo, ubicación y remuneración."
   ]
  },
  {
   "cell_type": "code",
   "execution_count": 96,
   "id": "9b4ce1a9",
   "metadata": {},
   "outputs": [
    {
     "data": {
      "text/html": [
       "<div>\n",
       "<style scoped>\n",
       "    .dataframe tbody tr th:only-of-type {\n",
       "        vertical-align: middle;\n",
       "    }\n",
       "\n",
       "    .dataframe tbody tr th {\n",
       "        vertical-align: top;\n",
       "    }\n",
       "\n",
       "    .dataframe thead th {\n",
       "        text-align: right;\n",
       "    }\n",
       "</style>\n",
       "<table border=\"1\" class=\"dataframe\">\n",
       "  <thead>\n",
       "    <tr style=\"text-align: right;\">\n",
       "      <th></th>\n",
       "      <th>cargo</th>\n",
       "      <th>modo</th>\n",
       "      <th>fechaPublicado</th>\n",
       "      <th>fechaFin</th>\n",
       "      <th>plazas</th>\n",
       "      <th>experiencia</th>\n",
       "      <th>capacitacion</th>\n",
       "      <th>jornadas</th>\n",
       "      <th>remuneracion</th>\n",
       "      <th>nivelInstruccion</th>\n",
       "      <th>areaEstudios</th>\n",
       "      <th>ciudad</th>\n",
       "      <th>parroquia</th>\n",
       "      <th>sector</th>\n",
       "    </tr>\n",
       "  </thead>\n",
       "  <tbody>\n",
       "    <tr>\n",
       "      <th>0</th>\n",
       "      <td>desarrollador java jee</td>\n",
       "      <td>tiempo completo</td>\n",
       "      <td>2013-02-22</td>\n",
       "      <td>2013-03-24</td>\n",
       "      <td>1</td>\n",
       "      <td>sin experiencia</td>\n",
       "      <td>0-50 horas</td>\n",
       "      <td>jornada ordinaria (8 horas)</td>\n",
       "      <td>$501-$750</td>\n",
       "      <td>tercer nivel</td>\n",
       "      <td>informática software</td>\n",
       "      <td>quito</td>\n",
       "      <td>indistinto</td>\n",
       "      <td>norte</td>\n",
       "    </tr>\n",
       "    <tr>\n",
       "      <th>1</th>\n",
       "      <td>guardias de seguridad con experiencia 1 año</td>\n",
       "      <td>tiempo completo</td>\n",
       "      <td>2013-02-23</td>\n",
       "      <td>2013-02-28</td>\n",
       "      <td>20</td>\n",
       "      <td>7-12 meses</td>\n",
       "      <td>0-50 horas</td>\n",
       "      <td>jornada ordinaria (8 horas)</td>\n",
       "      <td>$400-$500</td>\n",
       "      <td>bachiller</td>\n",
       "      <td>recursos humanos/personal</td>\n",
       "      <td>ibarra</td>\n",
       "      <td>indistinto</td>\n",
       "      <td>centro</td>\n",
       "    </tr>\n",
       "    <tr>\n",
       "      <th>2</th>\n",
       "      <td>vendedor</td>\n",
       "      <td>tiempo completo</td>\n",
       "      <td>2013-02-23</td>\n",
       "      <td>2013-02-26</td>\n",
       "      <td>2</td>\n",
       "      <td>1-3 años</td>\n",
       "      <td>0-50 horas</td>\n",
       "      <td>jornada ordinaria (8 horas)</td>\n",
       "      <td>$400-$500</td>\n",
       "      <td>bachiller</td>\n",
       "      <td>ventas al consumidor</td>\n",
       "      <td>guayaquil</td>\n",
       "      <td>indistinto</td>\n",
       "      <td>centro</td>\n",
       "    </tr>\n",
       "  </tbody>\n",
       "</table>\n",
       "</div>"
      ],
      "text/plain": [
       "                                         cargo             modo  \\\n",
       "0                       desarrollador java jee  tiempo completo   \n",
       "1  guardias de seguridad con experiencia 1 año  tiempo completo   \n",
       "2                                     vendedor  tiempo completo   \n",
       "\n",
       "  fechaPublicado    fechaFin  plazas      experiencia capacitacion  \\\n",
       "0     2013-02-22  2013-03-24       1  sin experiencia   0-50 horas   \n",
       "1     2013-02-23  2013-02-28      20       7-12 meses   0-50 horas   \n",
       "2     2013-02-23  2013-02-26       2         1-3 años   0-50 horas   \n",
       "\n",
       "                      jornadas remuneracion nivelInstruccion  \\\n",
       "0  jornada ordinaria (8 horas)    $501-$750     tercer nivel   \n",
       "1  jornada ordinaria (8 horas)    $400-$500        bachiller   \n",
       "2  jornada ordinaria (8 horas)    $400-$500        bachiller   \n",
       "\n",
       "                areaEstudios     ciudad   parroquia  sector  \n",
       "0       informática software      quito  indistinto   norte  \n",
       "1  recursos humanos/personal     ibarra  indistinto  centro  \n",
       "2       ventas al consumidor  guayaquil  indistinto  centro  "
      ]
     },
     "execution_count": 96,
     "metadata": {},
     "output_type": "execute_result"
    }
   ],
   "source": [
    "# Ver las primeras filas y nombres de columnas\n",
    "df.head(3)"
   ]
  },
  {
   "cell_type": "code",
   "execution_count": 97,
   "id": "e33111f1",
   "metadata": {},
   "outputs": [
    {
     "data": {
      "text/plain": [
       "Index(['cargo', 'modo', 'fechaPublicado', 'fechaFin', 'plazas', 'experiencia',\n",
       "       'capacitacion', 'jornadas', 'remuneracion', 'nivelInstruccion',\n",
       "       'areaEstudios', 'ciudad', 'parroquia', 'sector'],\n",
       "      dtype='object')"
      ]
     },
     "execution_count": 97,
     "metadata": {},
     "output_type": "execute_result"
    }
   ],
   "source": [
    "df.columns"
   ]
  },
  {
   "cell_type": "markdown",
   "id": "d9447a04",
   "metadata": {},
   "source": [
    "Renombrar columnas para trabajar mejor, Esto es útil si los nombres tienen espacios, tildes o caracteres raros"
   ]
  },
  {
   "cell_type": "code",
   "execution_count": 98,
   "id": "a2f50b1c",
   "metadata": {},
   "outputs": [
    {
     "data": {
      "text/plain": [
       "Index(['cargo', 'modo', 'fechapublicado', 'fechafin', 'plazas', 'experiencia',\n",
       "       'capacitacion', 'jornadas', 'remuneracion', 'nivelinstruccion',\n",
       "       'areaestudios', 'ciudad', 'parroquia', 'sector'],\n",
       "      dtype='object')"
      ]
     },
     "execution_count": 98,
     "metadata": {},
     "output_type": "execute_result"
    }
   ],
   "source": [
    "df.columns = df.columns.str.lower().str.strip().str.replace(\" \", \"_\")\n",
    "df.columns"
   ]
  },
  {
   "cell_type": "markdown",
   "id": "fe0d0722",
   "metadata": {},
   "source": [
    "Convertir columna de remuneración a tipo numérico"
   ]
  },
  {
   "cell_type": "markdown",
   "id": "dd0c1f91",
   "metadata": {},
   "source": [
    "Primero, identificamos si la columna de remuneración tiene comas, símbolos de dólar o espacios."
   ]
  },
  {
   "cell_type": "code",
   "execution_count": 99,
   "id": "a4074ebe",
   "metadata": {},
   "outputs": [
    {
     "name": "stdout",
     "output_type": "stream",
     "text": [
      "['$501-$750' '$400-$500' '$1001-$1500' '$751-$1000' '$1501-$2000'\n",
      " '$2001-$2500' '$2501-$3000' 'más de $ 5001' '$3001-$4000' '$4001-$5000']\n"
     ]
    }
   ],
   "source": [
    "# Revisar valores únicos si son pocos o una muestra\n",
    "print(df[\"remuneracion\"].unique()[:20])"
   ]
  },
  {
   "cell_type": "markdown",
   "id": "2be1bc18",
   "metadata": {},
   "source": [
    "Convertir rangos salariales en números, ejemplo: De \"$501-$750\" → promedio → (501 + 750) / 2 = 625.5\n",
    "\n",
    "De \"más de $ 5001\" → usaremos 5001 como base mínima \n",
    "\n",
    "Si hay nulos o datos malformados, los convertiremos a NaN"
   ]
  },
  {
   "cell_type": "code",
   "execution_count": 100,
   "id": "2a471bb7",
   "metadata": {},
   "outputs": [],
   "source": [
    "#Esto creará una nueva columna remuneracion_num lista para análisis estadísticos y visualizaciones.\n",
    "import re\n",
    "import numpy as np\n",
    "\n",
    "def parse_remuneracion(value):\n",
    "    if pd.isnull(value):\n",
    "        return np.nan\n",
    "\n",
    "    value = str(value).lower().strip()\n",
    "\n",
    "    # Caso: rango como \"1000-1500\"\n",
    "    rango = re.findall(r\"\\d+\", value)\n",
    "    if len(rango) == 2:\n",
    "        return (int(rango[0]) + int(rango[1])) / 2\n",
    "\n",
    "    # Caso: único valor como \"1200\"\n",
    "    elif len(rango) == 1:\n",
    "        return int(rango[0])\n",
    "\n",
    "    # No se puede extraer número\n",
    "    return np.nan\n"
   ]
  },
  {
   "cell_type": "markdown",
   "id": "dbad9dac",
   "metadata": {},
   "source": [
    "Aplicar la función y crear nueva columna con valores numericos"
   ]
  },
  {
   "cell_type": "code",
   "execution_count": 101,
   "id": "af16b5d0",
   "metadata": {},
   "outputs": [
    {
     "name": "stdout",
     "output_type": "stream",
     "text": [
      "  remuneracion  remuneracion_num\n",
      "0    $501-$750             625.5\n",
      "1    $400-$500             450.0\n",
      "2    $400-$500             450.0\n",
      "3    $501-$750             625.5\n",
      "4    $400-$500             450.0\n",
      "5    $400-$500             450.0\n",
      "6    $400-$500             450.0\n",
      "7    $400-$500             450.0\n",
      "8    $400-$500             450.0\n",
      "9    $501-$750             625.5\n"
     ]
    }
   ],
   "source": [
    "df[\"remuneracion_num\"] = df[\"remuneracion\"].apply(parse_remuneracion)\n",
    "print(df[[\"remuneracion\", \"remuneracion_num\"]].head(10))\n"
   ]
  },
  {
   "cell_type": "markdown",
   "id": "6dc92bb1",
   "metadata": {},
   "source": [
    "## 4. Visualizacion"
   ]
  },
  {
   "cell_type": "markdown",
   "id": "73e4404d",
   "metadata": {},
   "source": [
    "Distribución general de los salarios"
   ]
  },
  {
   "cell_type": "code",
   "execution_count": 103,
   "id": "5681bc66",
   "metadata": {},
   "outputs": [
    {
     "ename": "ValueError",
     "evalue": "Mime type rendering requires nbformat>=4.2.0 but it is not installed",
     "output_type": "error",
     "traceback": [
      "\u001b[31m---------------------------------------------------------------------------\u001b[39m",
      "\u001b[31mValueError\u001b[39m                                Traceback (most recent call last)",
      "\u001b[36mCell\u001b[39m\u001b[36m \u001b[39m\u001b[32mIn[103]\u001b[39m\u001b[32m, line 4\u001b[39m\n\u001b[32m      1\u001b[39m \u001b[38;5;28;01mimport\u001b[39;00m\u001b[38;5;250m \u001b[39m\u001b[34;01mplotly\u001b[39;00m\u001b[34;01m.\u001b[39;00m\u001b[34;01mexpress\u001b[39;00m\u001b[38;5;250m \u001b[39m\u001b[38;5;28;01mas\u001b[39;00m\u001b[38;5;250m \u001b[39m\u001b[34;01mpx\u001b[39;00m\n\u001b[32m      3\u001b[39m fig = px.histogram(df, x=\u001b[33m\"\u001b[39m\u001b[33mremuneracion_num\u001b[39m\u001b[33m\"\u001b[39m, nbins=\u001b[32m20\u001b[39m, title=\u001b[33m\"\u001b[39m\u001b[33mDistribución de remuneraciones\u001b[39m\u001b[33m\"\u001b[39m)\n\u001b[32m----> \u001b[39m\u001b[32m4\u001b[39m \u001b[43mfig\u001b[49m\u001b[43m.\u001b[49m\u001b[43mshow\u001b[49m\u001b[43m(\u001b[49m\u001b[43m)\u001b[49m\n",
      "\u001b[36mFile \u001b[39m\u001b[32mc:\\Users\\patri\\OneDrive\\Escritorio\\Maestria\\Materias\\Tratamiento de datos\\Semana 3\\Tarea 3\\tarea3Env\\Lib\\site-packages\\plotly\\basedatatypes.py:3420\u001b[39m, in \u001b[36mBaseFigure.show\u001b[39m\u001b[34m(self, *args, **kwargs)\u001b[39m\n\u001b[32m   3387\u001b[39m \u001b[38;5;250m\u001b[39m\u001b[33;03m\"\"\"\u001b[39;00m\n\u001b[32m   3388\u001b[39m \u001b[33;03mShow a figure using either the default renderer(s) or the renderer(s)\u001b[39;00m\n\u001b[32m   3389\u001b[39m \u001b[33;03mspecified by the renderer argument\u001b[39;00m\n\u001b[32m   (...)\u001b[39m\u001b[32m   3416\u001b[39m \u001b[33;03mNone\u001b[39;00m\n\u001b[32m   3417\u001b[39m \u001b[33;03m\"\"\"\u001b[39;00m\n\u001b[32m   3418\u001b[39m \u001b[38;5;28;01mimport\u001b[39;00m\u001b[38;5;250m \u001b[39m\u001b[34;01mplotly\u001b[39;00m\u001b[34;01m.\u001b[39;00m\u001b[34;01mio\u001b[39;00m\u001b[38;5;250m \u001b[39m\u001b[38;5;28;01mas\u001b[39;00m\u001b[38;5;250m \u001b[39m\u001b[34;01mpio\u001b[39;00m\n\u001b[32m-> \u001b[39m\u001b[32m3420\u001b[39m \u001b[38;5;28;01mreturn\u001b[39;00m \u001b[43mpio\u001b[49m\u001b[43m.\u001b[49m\u001b[43mshow\u001b[49m\u001b[43m(\u001b[49m\u001b[38;5;28;43mself\u001b[39;49m\u001b[43m,\u001b[49m\u001b[43m \u001b[49m\u001b[43m*\u001b[49m\u001b[43margs\u001b[49m\u001b[43m,\u001b[49m\u001b[43m \u001b[49m\u001b[43m*\u001b[49m\u001b[43m*\u001b[49m\u001b[43mkwargs\u001b[49m\u001b[43m)\u001b[49m\n",
      "\u001b[36mFile \u001b[39m\u001b[32mc:\\Users\\patri\\OneDrive\\Escritorio\\Maestria\\Materias\\Tratamiento de datos\\Semana 3\\Tarea 3\\tarea3Env\\Lib\\site-packages\\plotly\\io\\_renderers.py:415\u001b[39m, in \u001b[36mshow\u001b[39m\u001b[34m(fig, renderer, validate, **kwargs)\u001b[39m\n\u001b[32m    410\u001b[39m     \u001b[38;5;28;01mraise\u001b[39;00m \u001b[38;5;167;01mValueError\u001b[39;00m(\n\u001b[32m    411\u001b[39m         \u001b[33m\"\u001b[39m\u001b[33mMime type rendering requires ipython but it is not installed\u001b[39m\u001b[33m\"\u001b[39m\n\u001b[32m    412\u001b[39m     )\n\u001b[32m    414\u001b[39m \u001b[38;5;28;01mif\u001b[39;00m \u001b[38;5;129;01mnot\u001b[39;00m nbformat \u001b[38;5;129;01mor\u001b[39;00m Version(nbformat.__version__) < Version(\u001b[33m\"\u001b[39m\u001b[33m4.2.0\u001b[39m\u001b[33m\"\u001b[39m):\n\u001b[32m--> \u001b[39m\u001b[32m415\u001b[39m     \u001b[38;5;28;01mraise\u001b[39;00m \u001b[38;5;167;01mValueError\u001b[39;00m(\n\u001b[32m    416\u001b[39m         \u001b[33m\"\u001b[39m\u001b[33mMime type rendering requires nbformat>=4.2.0 but it is not installed\u001b[39m\u001b[33m\"\u001b[39m\n\u001b[32m    417\u001b[39m     )\n\u001b[32m    419\u001b[39m display_jupyter_version_warnings()\n\u001b[32m    421\u001b[39m ipython_display.display(bundle, raw=\u001b[38;5;28;01mTrue\u001b[39;00m)\n",
      "\u001b[31mValueError\u001b[39m: Mime type rendering requires nbformat>=4.2.0 but it is not installed"
     ]
    }
   ],
   "source": [
    "import plotly.express as px\n",
    "\n",
    "fig = px.histogram(df, x=\"remuneracion_num\", nbins=20, title=\"Distribución de remuneraciones\")\n",
    "fig.show()\n"
   ]
  }
 ],
 "metadata": {
  "kernelspec": {
   "display_name": "tarea3Env",
   "language": "python",
   "name": "python3"
  },
  "language_info": {
   "codemirror_mode": {
    "name": "ipython",
    "version": 3
   },
   "file_extension": ".py",
   "mimetype": "text/x-python",
   "name": "python",
   "nbconvert_exporter": "python",
   "pygments_lexer": "ipython3",
   "version": "3.13.3"
  }
 },
 "nbformat": 4,
 "nbformat_minor": 5
}
