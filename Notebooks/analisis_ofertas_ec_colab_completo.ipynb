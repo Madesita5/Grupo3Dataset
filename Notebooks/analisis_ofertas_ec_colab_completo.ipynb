{
 "cells": [
  {
   "cell_type": "markdown",
   "id": "d44c9288",
   "metadata": {},
   "source": [
    "# 📊 Análisis de Ofertas Laborales en Ecuador\n",
    "Este notebook carga, limpia y analiza un dataset de ofertas de trabajo en Ecuador.\n",
    "Incluye tablas, gráficos."
   ]
  },
  {
   "cell_type": "markdown",
   "id": "ea5fe832",
   "metadata": {},
   "source": [
    "## 1. Cargar librerías y leer el dataset"
   ]
  },
  {
   "cell_type": "code",
   "execution_count": null,
   "id": "eb659aa1",
   "metadata": {},
   "outputs": [
    {
     "data": {
      "text/html": [
       "<div>\n",
       "<style scoped>\n",
       "    .dataframe tbody tr th:only-of-type {\n",
       "        vertical-align: middle;\n",
       "    }\n",
       "\n",
       "    .dataframe tbody tr th {\n",
       "        vertical-align: top;\n",
       "    }\n",
       "\n",
       "    .dataframe thead th {\n",
       "        text-align: right;\n",
       "    }\n",
       "</style>\n",
       "<table border=\"1\" class=\"dataframe\">\n",
       "  <thead>\n",
       "    <tr style=\"text-align: right;\">\n",
       "      <th></th>\n",
       "      <th>cargo</th>\n",
       "      <th>modo</th>\n",
       "      <th>fechaPublicado</th>\n",
       "      <th>fechaFin</th>\n",
       "      <th>plazas</th>\n",
       "      <th>experiencia</th>\n",
       "      <th>capacitacion</th>\n",
       "      <th>jornadas</th>\n",
       "      <th>remuneracion</th>\n",
       "      <th>nivelInstruccion</th>\n",
       "      <th>areaEstudios</th>\n",
       "      <th>ciudad</th>\n",
       "      <th>parroquia</th>\n",
       "      <th>sector</th>\n",
       "    </tr>\n",
       "  </thead>\n",
       "  <tbody>\n",
       "    <tr>\n",
       "      <th>0</th>\n",
       "      <td>desarrollador java jee</td>\n",
       "      <td>tiempo completo</td>\n",
       "      <td>2013-02-22</td>\n",
       "      <td>2013-03-24</td>\n",
       "      <td>1</td>\n",
       "      <td>sin experiencia</td>\n",
       "      <td>0-50 horas</td>\n",
       "      <td>jornada ordinaria (8 horas)</td>\n",
       "      <td>$501-$750</td>\n",
       "      <td>tercer nivel</td>\n",
       "      <td>informática software</td>\n",
       "      <td>quito</td>\n",
       "      <td>indistinto</td>\n",
       "      <td>norte</td>\n",
       "    </tr>\n",
       "    <tr>\n",
       "      <th>1</th>\n",
       "      <td>guardias de seguridad con experiencia 1 año</td>\n",
       "      <td>tiempo completo</td>\n",
       "      <td>2013-02-23</td>\n",
       "      <td>2013-02-28</td>\n",
       "      <td>20</td>\n",
       "      <td>7-12 meses</td>\n",
       "      <td>0-50 horas</td>\n",
       "      <td>jornada ordinaria (8 horas)</td>\n",
       "      <td>$400-$500</td>\n",
       "      <td>bachiller</td>\n",
       "      <td>recursos humanos/personal</td>\n",
       "      <td>ibarra</td>\n",
       "      <td>indistinto</td>\n",
       "      <td>centro</td>\n",
       "    </tr>\n",
       "    <tr>\n",
       "      <th>2</th>\n",
       "      <td>vendedor</td>\n",
       "      <td>tiempo completo</td>\n",
       "      <td>2013-02-23</td>\n",
       "      <td>2013-02-26</td>\n",
       "      <td>2</td>\n",
       "      <td>1-3 años</td>\n",
       "      <td>0-50 horas</td>\n",
       "      <td>jornada ordinaria (8 horas)</td>\n",
       "      <td>$400-$500</td>\n",
       "      <td>bachiller</td>\n",
       "      <td>ventas al consumidor</td>\n",
       "      <td>guayaquil</td>\n",
       "      <td>indistinto</td>\n",
       "      <td>centro</td>\n",
       "    </tr>\n",
       "    <tr>\n",
       "      <th>3</th>\n",
       "      <td>topografo</td>\n",
       "      <td>por obra</td>\n",
       "      <td>2013-02-23</td>\n",
       "      <td>2013-02-28</td>\n",
       "      <td>1</td>\n",
       "      <td>1-3 años</td>\n",
       "      <td>0-50 horas</td>\n",
       "      <td>jornada ordinaria (8 horas)</td>\n",
       "      <td>$501-$750</td>\n",
       "      <td>tecnológico superior</td>\n",
       "      <td>ingeniería/técnico</td>\n",
       "      <td>pedro vicente maldonado</td>\n",
       "      <td>indistinto</td>\n",
       "      <td>suroeste</td>\n",
       "    </tr>\n",
       "    <tr>\n",
       "      <th>4</th>\n",
       "      <td>asistente contable</td>\n",
       "      <td>tiempo completo</td>\n",
       "      <td>2013-02-25</td>\n",
       "      <td>2013-03-27</td>\n",
       "      <td>1</td>\n",
       "      <td>1-3 años</td>\n",
       "      <td>0-50 horas</td>\n",
       "      <td>jornada ordinaria (8 horas)</td>\n",
       "      <td>$400-$500</td>\n",
       "      <td>tercer nivel</td>\n",
       "      <td>economía/contabilidad</td>\n",
       "      <td>guayaquil</td>\n",
       "      <td>indistinto</td>\n",
       "      <td>sur</td>\n",
       "    </tr>\n",
       "  </tbody>\n",
       "</table>\n",
       "</div>"
      ],
      "text/plain": [
       "                                         cargo             modo  \\\n",
       "0                       desarrollador java jee  tiempo completo   \n",
       "1  guardias de seguridad con experiencia 1 año  tiempo completo   \n",
       "2                                     vendedor  tiempo completo   \n",
       "3                                    topografo         por obra   \n",
       "4                           asistente contable  tiempo completo   \n",
       "\n",
       "  fechaPublicado    fechaFin  plazas      experiencia capacitacion  \\\n",
       "0     2013-02-22  2013-03-24       1  sin experiencia   0-50 horas   \n",
       "1     2013-02-23  2013-02-28      20       7-12 meses   0-50 horas   \n",
       "2     2013-02-23  2013-02-26       2         1-3 años   0-50 horas   \n",
       "3     2013-02-23  2013-02-28       1         1-3 años   0-50 horas   \n",
       "4     2013-02-25  2013-03-27       1         1-3 años   0-50 horas   \n",
       "\n",
       "                      jornadas remuneracion      nivelInstruccion  \\\n",
       "0  jornada ordinaria (8 horas)    $501-$750          tercer nivel   \n",
       "1  jornada ordinaria (8 horas)    $400-$500             bachiller   \n",
       "2  jornada ordinaria (8 horas)    $400-$500             bachiller   \n",
       "3  jornada ordinaria (8 horas)    $501-$750  tecnológico superior   \n",
       "4  jornada ordinaria (8 horas)    $400-$500          tercer nivel   \n",
       "\n",
       "                areaEstudios                   ciudad   parroquia    sector  \n",
       "0       informática software                    quito  indistinto     norte  \n",
       "1  recursos humanos/personal                   ibarra  indistinto    centro  \n",
       "2       ventas al consumidor                guayaquil  indistinto    centro  \n",
       "3         ingeniería/técnico  pedro vicente maldonado  indistinto  suroeste  \n",
       "4      economía/contabilidad                guayaquil  indistinto       sur  "
      ]
     },
     "execution_count": 38,
     "metadata": {},
     "output_type": "execute_result"
    }
   ],
   "source": [
    "#Importar librerías necesarias\n",
    "import pandas as pd\n",
    "import numpy as np\n",
    "import matplotlib.pyplot as plt\n",
    "import seaborn as sns\n",
    "\n",
    "# Configurar visualización\n",
    "pd.set_option('display.max_columns', None)\n",
    "sns.set(style=\"whitegrid\")\n",
    "\n",
    "# Cargar el dataset\n",
    "ruta = \"../Datos/oferta_laboral_ecuador.csv\"  # Ajustado a tu estructura\n",
    "df = pd.read_csv(ruta)\n",
    "\n",
    "# Vista previa de los datos\n",
    "df.head()\n"
   ]
  },
  {
   "cell_type": "markdown",
   "id": "aa117521",
   "metadata": {},
   "source": [
    "## 2. Exploración inicial y limpieza básica"
   ]
  },
  {
   "cell_type": "code",
   "execution_count": 41,
   "id": "bb83965d",
   "metadata": {},
   "outputs": [
    {
     "name": "stdout",
     "output_type": "stream",
     "text": [
      "Filas: 210812, Columnas: 14\n",
      "<class 'pandas.core.frame.DataFrame'>\n",
      "RangeIndex: 210812 entries, 0 to 210811\n",
      "Data columns (total 14 columns):\n",
      " #   Column            Non-Null Count   Dtype \n",
      "---  ------            --------------   ----- \n",
      " 0   cargo             210812 non-null  object\n",
      " 1   modo              210812 non-null  object\n",
      " 2   fechaPublicado    210812 non-null  object\n",
      " 3   fechaFin          210812 non-null  object\n",
      " 4   plazas            210812 non-null  int64 \n",
      " 5   experiencia       210812 non-null  object\n",
      " 6   capacitacion      210812 non-null  object\n",
      " 7   jornadas          210812 non-null  object\n",
      " 8   remuneracion      210812 non-null  object\n",
      " 9   nivelInstruccion  210812 non-null  object\n",
      " 10  areaEstudios      210812 non-null  object\n",
      " 11  ciudad            210812 non-null  object\n",
      " 12  parroquia         210812 non-null  object\n",
      " 13  sector            210812 non-null  object\n",
      "dtypes: int64(1), object(13)\n",
      "memory usage: 22.5+ MB\n"
     ]
    }
   ],
   "source": [
    "df.shape\n",
    "# Dimensiones del DataFrame\n",
    "print(f\"Filas: {df.shape[0]}, Columnas: {df.shape[1]}\")\n",
    "\n",
    "# Información general\n",
    "df.info()"
   ]
  },
  {
   "cell_type": "markdown",
   "id": "d66927aa",
   "metadata": {},
   "source": [
    "Verificar valores nulos"
   ]
  },
  {
   "cell_type": "code",
   "execution_count": 42,
   "id": "3cb590c5",
   "metadata": {},
   "outputs": [
    {
     "data": {
      "text/plain": [
       "cargo               0\n",
       "modo                0\n",
       "fechaPublicado      0\n",
       "fechaFin            0\n",
       "plazas              0\n",
       "experiencia         0\n",
       "capacitacion        0\n",
       "jornadas            0\n",
       "remuneracion        0\n",
       "nivelInstruccion    0\n",
       "areaEstudios        0\n",
       "ciudad              0\n",
       "parroquia           0\n",
       "sector              0\n",
       "dtype: int64"
      ]
     },
     "execution_count": 42,
     "metadata": {},
     "output_type": "execute_result"
    }
   ],
   "source": [
    "# Conteo de valores nulos por columna\n",
    "df.isnull().sum()\n"
   ]
  },
  {
   "cell_type": "markdown",
   "id": "6dc52389",
   "metadata": {},
   "source": [
    "Eliminar columnas con más del 50% de valores nulos (si aplica)"
   ]
  },
  {
   "cell_type": "code",
   "execution_count": 43,
   "id": "132ff13a",
   "metadata": {},
   "outputs": [
    {
     "name": "stdout",
     "output_type": "stream",
     "text": [
      "DataFrame después de eliminar columnas con muchos nulos: (210812, 14)\n"
     ]
    }
   ],
   "source": [
    "# Umbral del 50%\n",
    "umbral = len(df) * 0.5\n",
    "df = df.dropna(axis=1, thresh=umbral)\n",
    "\n",
    "# Confirmamos nueva forma\n",
    "print(f\"DataFrame después de eliminar columnas con muchos nulos: {df.shape}\")\n"
   ]
  }
 ],
 "metadata": {
  "kernelspec": {
   "display_name": "tarea3Env",
   "language": "python",
   "name": "python3"
  },
  "language_info": {
   "codemirror_mode": {
    "name": "ipython",
    "version": 3
   },
   "file_extension": ".py",
   "mimetype": "text/x-python",
   "name": "python",
   "nbconvert_exporter": "python",
   "pygments_lexer": "ipython3",
   "version": "3.13.3"
  }
 },
 "nbformat": 4,
 "nbformat_minor": 5
}
